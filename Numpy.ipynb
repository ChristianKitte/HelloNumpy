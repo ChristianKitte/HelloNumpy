{
  "nbformat": 4,
  "nbformat_minor": 0,
  "metadata": {
    "kernelspec": {
      "display_name": "Python 3",
      "language": "python",
      "name": "python3"
    },
    "language_info": {
      "codemirror_mode": {
        "name": "ipython",
        "version": 2
      },
      "file_extension": ".py",
      "mimetype": "text/x-python",
      "name": "python",
      "nbconvert_exporter": "python",
      "pygments_lexer": "ipython2",
      "version": "2.7.6"
    },
    "colab": {
      "name": "Numpy.ipynb",
      "provenance": [],
      "include_colab_link": true
    }
  },
  "cells": [
    {
      "cell_type": "markdown",
      "metadata": {
        "id": "view-in-github",
        "colab_type": "text"
      },
      "source": [
        "<a href=\"https://colab.research.google.com/github/ChristianKitte/HelloNumpy/blob/main/Numpy.ipynb\" target=\"_parent\"><img src=\"https://colab.research.google.com/assets/colab-badge.svg\" alt=\"Open In Colab\"/></a>"
      ]
    },
    {
      "cell_type": "code",
      "metadata": {
        "pycharm": {
          "name": "#%%\n"
        },
        "colab": {
          "base_uri": "https://localhost:8080/"
        },
        "id": "kc-W4Thz48WR",
        "outputId": "6e9faac9-1c28-4fdf-9ffc-5e9ee31d2526"
      },
      "source": [
        "intro = \"Durchlaufen der Übungen für die EA 4\"\n",
        "name = \"Christian Kitte\"\n",
        "\n",
        "print(intro + \" \" + name)"
      ],
      "execution_count": 2,
      "outputs": [
        {
          "output_type": "stream",
          "text": [
            "Durchlaufen der Übungen für die EA 4 Christian Kitte\n"
          ],
          "name": "stdout"
        }
      ]
    },
    {
      "cell_type": "code",
      "metadata": {
        "pycharm": {
          "name": "#%%\n"
        },
        "colab": {
          "base_uri": "https://localhost:8080/"
        },
        "id": "R6ZCu4q648WX",
        "outputId": "56f74617-37f3-4e7f-c5e7-dbbd4368e356"
      },
      "source": [
        "import numpy as np\n",
        "\n",
        "print(np.__version__)"
      ],
      "execution_count": 3,
      "outputs": [
        {
          "output_type": "stream",
          "text": [
            "1.19.5\n"
          ],
          "name": "stdout"
        }
      ]
    },
    {
      "cell_type": "code",
      "metadata": {
        "pycharm": {
          "name": "#%%\n"
        },
        "colab": {
          "base_uri": "https://localhost:8080/"
        },
        "id": "yfGBY3D548WX",
        "outputId": "93f662bb-48a9-4a3f-d192-2ab58b980698"
      },
      "source": [
        "one_d_array = np.arange(10)\n",
        "print(one_d_array)"
      ],
      "execution_count": 4,
      "outputs": [
        {
          "output_type": "stream",
          "text": [
            "[0 1 2 3 4 5 6 7 8 9]\n"
          ],
          "name": "stdout"
        }
      ]
    },
    {
      "cell_type": "code",
      "metadata": {
        "pycharm": {
          "name": "#%%\n"
        },
        "colab": {
          "base_uri": "https://localhost:8080/"
        },
        "id": "EPHdcuD748WY",
        "outputId": "ef135c4a-4ca1-46de-c7fb-f55a65f0857f"
      },
      "source": [
        "three_three_bool_array = np.full((3, 3), True, bool)\n",
        "print(three_three_bool_array)"
      ],
      "execution_count": 5,
      "outputs": [
        {
          "output_type": "stream",
          "text": [
            "[[ True  True  True]\n",
            " [ True  True  True]\n",
            " [ True  True  True]]\n"
          ],
          "name": "stdout"
        }
      ]
    },
    {
      "cell_type": "code",
      "metadata": {
        "pycharm": {
          "name": "#%%\n"
        },
        "colab": {
          "base_uri": "https://localhost:8080/"
        },
        "id": "GJuaOaHP48WY",
        "outputId": "dd5fb71e-af41-4326-9c89-9c5c0f7e7daa"
      },
      "source": [
        "arr_input = np.arange(10)\n",
        "print(arr_input)\n",
        "\n",
        "arr_output = [x for x in arr_input if x % 2 != 0]\n",
        "print(arr_output)\n",
        "\n",
        "arr_output2 = arr_input[arr_input % 2 == 1]\n",
        "print(arr_output2)"
      ],
      "execution_count": 6,
      "outputs": [
        {
          "output_type": "stream",
          "text": [
            "[0 1 2 3 4 5 6 7 8 9]\n",
            "[1, 3, 5, 7, 9]\n",
            "[1 3 5 7 9]\n"
          ],
          "name": "stdout"
        }
      ]
    },
    {
      "cell_type": "code",
      "metadata": {
        "pycharm": {
          "name": "#%%\n"
        },
        "colab": {
          "base_uri": "https://localhost:8080/"
        },
        "id": "K7G2Xexh48WY",
        "outputId": "ebf8b5d1-df64-4602-a103-9e15afaa6967"
      },
      "source": [
        "arr_input = np.array(range(10))\n",
        "print(arr_input)\n",
        "\n",
        "arr_input[arr_input % 2 == 1] = -1\n",
        "print(arr_input)"
      ],
      "execution_count": 7,
      "outputs": [
        {
          "output_type": "stream",
          "text": [
            "[0 1 2 3 4 5 6 7 8 9]\n",
            "[ 0 -1  2 -1  4 -1  6 -1  8 -1]\n"
          ],
          "name": "stdout"
        }
      ]
    },
    {
      "cell_type": "code",
      "metadata": {
        "pycharm": {
          "name": "#%%\n"
        },
        "colab": {
          "base_uri": "https://localhost:8080/"
        },
        "id": "hmBfM3Bi48WY",
        "outputId": "58cd1de7-8849-4aea-cfe0-7ffafc5d9f68"
      },
      "source": [
        "arr_input = np.array(range(10))\n",
        "print(arr_input)\n",
        "\n",
        "arr_output2 = np.where(arr_input % 2 == 1, -1, arr_input)\n",
        "print(arr_output2)\n",
        "print(arr_input)"
      ],
      "execution_count": 8,
      "outputs": [
        {
          "output_type": "stream",
          "text": [
            "[0 1 2 3 4 5 6 7 8 9]\n",
            "[ 0 -1  2 -1  4 -1  6 -1  8 -1]\n",
            "[0 1 2 3 4 5 6 7 8 9]\n"
          ],
          "name": "stdout"
        }
      ]
    },
    {
      "cell_type": "code",
      "metadata": {
        "pycharm": {
          "name": "#%%\n"
        },
        "colab": {
          "base_uri": "https://localhost:8080/"
        },
        "id": "-d7yDjUd48WZ",
        "outputId": "b64bc655-3efb-4625-af39-351098049322"
      },
      "source": [
        "arr = np.arange(10)\n",
        "print(arr)\n",
        "print(arr.reshape(2, 5))"
      ],
      "execution_count": 9,
      "outputs": [
        {
          "output_type": "stream",
          "text": [
            "[0 1 2 3 4 5 6 7 8 9]\n",
            "[[0 1 2 3 4]\n",
            " [5 6 7 8 9]]\n"
          ],
          "name": "stdout"
        }
      ]
    },
    {
      "cell_type": "code",
      "metadata": {
        "pycharm": {
          "name": "#%%\n"
        },
        "colab": {
          "base_uri": "https://localhost:8080/"
        },
        "id": "Uw9YVqu548WZ",
        "outputId": "7c4cc478-2f9c-4648-a5be-cd5b381f7df6"
      },
      "source": [
        "a = np.arange(10).reshape(2, -1)\n",
        "b = np.repeat(1, 10).reshape(2, -1)\n",
        "print(np.vstack((a, b)))"
      ],
      "execution_count": 10,
      "outputs": [
        {
          "output_type": "stream",
          "text": [
            "[[0 1 2 3 4]\n",
            " [5 6 7 8 9]\n",
            " [1 1 1 1 1]\n",
            " [1 1 1 1 1]]\n"
          ],
          "name": "stdout"
        }
      ]
    },
    {
      "cell_type": "code",
      "metadata": {
        "pycharm": {
          "name": "#%%\n"
        },
        "colab": {
          "base_uri": "https://localhost:8080/"
        },
        "id": "wLAWFqgZ48WZ",
        "outputId": "2f045e5b-fa87-4ea3-bd41-52b8f11debaa"
      },
      "source": [
        "a = np.arange(10).reshape(2, -1)\n",
        "b = np.repeat(1, 10).reshape(2, -1)\n",
        "print(np.hstack((a, b)))"
      ],
      "execution_count": 11,
      "outputs": [
        {
          "output_type": "stream",
          "text": [
            "[[0 1 2 3 4 1 1 1 1 1]\n",
            " [5 6 7 8 9 1 1 1 1 1]]\n"
          ],
          "name": "stdout"
        }
      ]
    },
    {
      "cell_type": "code",
      "metadata": {
        "pycharm": {
          "name": "#%%\n"
        },
        "colab": {
          "base_uri": "https://localhost:8080/"
        },
        "id": "pJY-y9vA48Wa",
        "outputId": "0b3c3d3a-5c98-4990-9f00-d147f986c8f8"
      },
      "source": [
        "a = np.array([1, 2, 3])\n",
        "\n",
        "print(np.hstack(\n",
        "    (np.repeat(a[0], 3),\n",
        "     np.repeat(a[1], 3),\n",
        "     np.repeat(a[2], 3),\n",
        "     a, a, a\n",
        "     )))\n",
        "\n",
        "print(np.r_[np.repeat(a, 3), np.tile(a, 3)])"
      ],
      "execution_count": 12,
      "outputs": [
        {
          "output_type": "stream",
          "text": [
            "[1 1 1 2 2 2 3 3 3 1 2 3 1 2 3 1 2 3]\n",
            "[1 1 1 2 2 2 3 3 3 1 2 3 1 2 3 1 2 3]\n"
          ],
          "name": "stdout"
        }
      ]
    },
    {
      "cell_type": "code",
      "metadata": {
        "pycharm": {
          "name": "#%%\n"
        },
        "colab": {
          "base_uri": "https://localhost:8080/"
        },
        "id": "Dn_PLTPq48Wa",
        "outputId": "07bfb83d-3ab0-42fc-d29a-47d1f36a026e"
      },
      "source": [
        "a = np.array([1, 2, 3, 2, 3, 4, 3, 4, 5, 6])\n",
        "b = np.array([7, 2, 10, 2, 7, 4, 9, 4, 9, 8])\n",
        "print(np.intersect1d(a, b))"
      ],
      "execution_count": 13,
      "outputs": [
        {
          "output_type": "stream",
          "text": [
            "[2 4]\n"
          ],
          "name": "stdout"
        }
      ]
    },
    {
      "cell_type": "code",
      "metadata": {
        "pycharm": {
          "name": "#%%\n"
        },
        "colab": {
          "base_uri": "https://localhost:8080/"
        },
        "id": "S8ol2gE048Wa",
        "outputId": "1a89cfb1-bda6-4ba9-b9b7-67710d0012d7"
      },
      "source": [
        "a = np.array([1, 2, 3, 4, 5])\n",
        "b = np.array([5, 6, 7, 8, 9])\n",
        "print(np.setdiff1d(a, b))"
      ],
      "execution_count": 14,
      "outputs": [
        {
          "output_type": "stream",
          "text": [
            "[1 2 3 4]\n"
          ],
          "name": "stdout"
        }
      ]
    },
    {
      "cell_type": "code",
      "metadata": {
        "pycharm": {
          "name": "#%%\n"
        },
        "colab": {
          "base_uri": "https://localhost:8080/"
        },
        "id": "QWVb9gir48Wa",
        "outputId": "0c28663f-fe55-4efe-d953-06cedb1a5ced"
      },
      "source": [
        "a = np.array([1, 2, 3, 2, 3, 4, 3, 4, 5, 6])\n",
        "b = np.array([7, 2, 10, 2, 7, 4, 9, 4, 9, 8])\n",
        "print(np.where(a == b))"
      ],
      "execution_count": 15,
      "outputs": [
        {
          "output_type": "stream",
          "text": [
            "(array([1, 3, 5, 7]),)\n"
          ],
          "name": "stdout"
        }
      ]
    },
    {
      "cell_type": "code",
      "metadata": {
        "pycharm": {
          "name": "#%%\n"
        },
        "colab": {
          "base_uri": "https://localhost:8080/"
        },
        "id": "7j2T0inC48Wb",
        "outputId": "ac9b58a5-1da8-4020-bb2c-322209ae4128"
      },
      "source": [
        "a = np.array([2, 6, 1, 9, 10, 3, 27])\n",
        "print(\n",
        "    a[np.where((a > 4) & (a < 11))]\n",
        ")"
      ],
      "execution_count": 16,
      "outputs": [
        {
          "output_type": "stream",
          "text": [
            "[ 6  9 10]\n"
          ],
          "name": "stdout"
        }
      ]
    },
    {
      "cell_type": "code",
      "metadata": {
        "pycharm": {
          "name": "#%%\n"
        },
        "colab": {
          "base_uri": "https://localhost:8080/"
        },
        "id": "Rfdbq9AH48Wb",
        "outputId": "687cadcc-65df-4640-e78d-6f81871b300c"
      },
      "source": [
        "def maxx(x, y):\n",
        "    \"\"\"Get the maximum of two items\"\"\"\n",
        "    if x >= y:\n",
        "        return x\n",
        "    else:\n",
        "        return y\n",
        "\n",
        "\n",
        "def equal(x, y):\n",
        "    \"\"\"Get the maximum of two items\"\"\"\n",
        "    if x == y:\n",
        "        return x\n",
        "    else:\n",
        "        return 0\n",
        "\n",
        "\n",
        "a = np.array([5, 7, 9, 8, 6, 4, 5])\n",
        "b = np.array([6, 3, 4, 8, 9, 7, 1])\n",
        "\n",
        "meine_definierte_funktion = np.vectorize(maxx, otypes=[float])\n",
        "meine_definierte_funktion2 = np.vectorize(equal, otypes=[float])\n",
        "\n",
        "print(meine_definierte_funktion(a, b))\n",
        "print(meine_definierte_funktion2(a, b))"
      ],
      "execution_count": 17,
      "outputs": [
        {
          "output_type": "stream",
          "text": [
            "[6. 7. 9. 8. 9. 7. 5.]\n",
            "[0. 0. 0. 8. 0. 0. 0.]\n"
          ],
          "name": "stdout"
        }
      ]
    },
    {
      "cell_type": "code",
      "metadata": {
        "pycharm": {
          "name": "#%%\n"
        },
        "colab": {
          "base_uri": "https://localhost:8080/"
        },
        "id": "_-RzCXmp48Wb",
        "outputId": "85bc90a4-80be-4e44-818f-8a6bc847ab44"
      },
      "source": [
        "arr = np.arange(9).reshape(3, 3)\n",
        "print(arr)\n",
        "print()\n",
        "print(arr[:, [1, 0, 2]])  #SPALTEN"
      ],
      "execution_count": 18,
      "outputs": [
        {
          "output_type": "stream",
          "text": [
            "[[0 1 2]\n",
            " [3 4 5]\n",
            " [6 7 8]]\n",
            "\n",
            "[[1 0 2]\n",
            " [4 3 5]\n",
            " [7 6 8]]\n"
          ],
          "name": "stdout"
        }
      ]
    },
    {
      "cell_type": "code",
      "metadata": {
        "pycharm": {
          "name": "#%%\n"
        },
        "colab": {
          "base_uri": "https://localhost:8080/"
        },
        "id": "1If_ZhXd48Wb",
        "outputId": "2d681d46-34ad-4eef-9ee4-aa0cdb7f9dff"
      },
      "source": [
        "arr = np.arange(9).reshape(3, 3)\n",
        "print(arr)\n",
        "print()\n",
        "print(arr[[1, 0, 2], :])  # REIHEN"
      ],
      "execution_count": 19,
      "outputs": [
        {
          "output_type": "stream",
          "text": [
            "[[0 1 2]\n",
            " [3 4 5]\n",
            " [6 7 8]]\n",
            "\n",
            "[[3 4 5]\n",
            " [0 1 2]\n",
            " [6 7 8]]\n"
          ],
          "name": "stdout"
        }
      ]
    },
    {
      "cell_type": "code",
      "metadata": {
        "pycharm": {
          "name": "#%%\n"
        },
        "colab": {
          "base_uri": "https://localhost:8080/"
        },
        "id": "OgRAHfIv48Wc",
        "outputId": "f395e008-0a64-4361-9207-4d5c3ab2f693"
      },
      "source": [
        "arr = np.arange(9).reshape(3, 3)\n",
        "print(arr)\n",
        "print()\n",
        "print(arr[::-1])  # REIHEN\n",
        "print()\n",
        "print(arr[::-1, :])  # zuvor SHORTHAND!"
      ],
      "execution_count": 20,
      "outputs": [
        {
          "output_type": "stream",
          "text": [
            "[[0 1 2]\n",
            " [3 4 5]\n",
            " [6 7 8]]\n",
            "\n",
            "[[6 7 8]\n",
            " [3 4 5]\n",
            " [0 1 2]]\n",
            "\n",
            "[[6 7 8]\n",
            " [3 4 5]\n",
            " [0 1 2]]\n"
          ],
          "name": "stdout"
        }
      ]
    },
    {
      "cell_type": "code",
      "metadata": {
        "pycharm": {
          "name": "#%%\n"
        },
        "colab": {
          "base_uri": "https://localhost:8080/"
        },
        "id": "orXt3eyv48Wc",
        "outputId": "511a10e4-6a56-4fbe-efd1-a4d4888e5dde"
      },
      "source": [
        "arr = np.arange(9).reshape(3, 3)\n",
        "print(arr)\n",
        "print()\n",
        "print(arr[:, ::-1])  # SPALTEN"
      ],
      "execution_count": 21,
      "outputs": [
        {
          "output_type": "stream",
          "text": [
            "[[0 1 2]\n",
            " [3 4 5]\n",
            " [6 7 8]]\n",
            "\n",
            "[[2 1 0]\n",
            " [5 4 3]\n",
            " [8 7 6]]\n"
          ],
          "name": "stdout"
        }
      ]
    },
    {
      "cell_type": "code",
      "metadata": {
        "pycharm": {
          "name": "#%%\n"
        },
        "colab": {
          "base_uri": "https://localhost:8080/"
        },
        "id": "R3BBLX2b48Wc",
        "outputId": "ba614b38-7296-4d6f-f96f-70655fd6dc4d"
      },
      "source": [
        "#arr=np.zeros(15).reshape(5,3)\n",
        "rand_test1 = np.random.random((5, 3))\n",
        "rand_test2 = np.random.randint(low=5, high=10, size=(5, 3))\n",
        "rand_arr = np.random.randint(low=5, high=10, size=(5, 3)) + np.random.random((5, 3))\n",
        "\n",
        "#print(arr)\n",
        "print(rand_test1)\n",
        "print()\n",
        "print(rand_test2)\n",
        "print()\n",
        "print(rand_arr)"
      ],
      "execution_count": 22,
      "outputs": [
        {
          "output_type": "stream",
          "text": [
            "[[0.14866772 0.14810765 0.17121055]\n",
            " [0.03873917 0.84687332 0.54347247]\n",
            " [0.17877541 0.9439081  0.03713227]\n",
            " [0.96252013 0.23942334 0.07892238]\n",
            " [0.4127592  0.5376751  0.8188826 ]]\n",
            "\n",
            "[[5 9 6]\n",
            " [8 5 5]\n",
            " [9 5 6]\n",
            " [8 9 7]\n",
            " [5 7 8]]\n",
            "\n",
            "[[9.16608314 6.74561988 5.81096929]\n",
            " [9.5449252  7.89378899 8.00154686]\n",
            " [7.51949911 7.49049273 9.1687298 ]\n",
            " [7.84640096 8.88907696 6.10814757]\n",
            " [6.65891567 7.06599336 5.57046616]]\n"
          ],
          "name": "stdout"
        }
      ]
    },
    {
      "cell_type": "code",
      "metadata": {
        "pycharm": {
          "name": "#%%\n"
        },
        "colab": {
          "base_uri": "https://localhost:8080/"
        },
        "id": "eGfhNpCx48Wc",
        "outputId": "000a0a1a-d513-4c6d-ffa8-582a260758f0"
      },
      "source": [
        "print(np.get_printoptions())\n",
        "np.set_printoptions(precision=3)\n",
        "print(np.get_printoptions())\n",
        "\n",
        "arr = np.random.random((5, 3))\n",
        "print(arr)"
      ],
      "execution_count": 23,
      "outputs": [
        {
          "output_type": "stream",
          "text": [
            "{'edgeitems': 3, 'threshold': 1000, 'floatmode': 'maxprec', 'precision': 8, 'suppress': False, 'linewidth': 75, 'nanstr': 'nan', 'infstr': 'inf', 'sign': '-', 'formatter': None, 'legacy': False}\n",
            "{'edgeitems': 3, 'threshold': 1000, 'floatmode': 'maxprec', 'precision': 3, 'suppress': False, 'linewidth': 75, 'nanstr': 'nan', 'infstr': 'inf', 'sign': '-', 'formatter': None, 'legacy': False}\n",
            "[[0.683 0.473 0.214]\n",
            " [0.474 0.817 0.624]\n",
            " [0.361 0.994 0.363]\n",
            " [0.613 0.545 0.276]\n",
            " [0.099 0.37  0.716]]\n"
          ],
          "name": "stdout"
        }
      ]
    },
    {
      "cell_type": "code",
      "metadata": {
        "pycharm": {
          "name": "#%%\n"
        },
        "colab": {
          "base_uri": "https://localhost:8080/"
        },
        "id": "BuwBptoa48Wd",
        "outputId": "045e73b9-7353-4be5-9700-cefaafdde96d"
      },
      "source": [
        "np.random.seed(100)\n",
        "rand_arr = np.random.random([3, 3]) / 1e3\n",
        "\n",
        "np.set_printoptions(suppress=False)\n",
        "print(np.get_printoptions())\n",
        "print(rand_arr)\n",
        "print()\n",
        "\n",
        "np.set_printoptions(suppress=True, precision=6)\n",
        "print(np.get_printoptions())\n",
        "print()\n",
        "\n",
        "rand_arr = np.random.random([3, 3]) / 1e3\n",
        "print(rand_arr)"
      ],
      "execution_count": 24,
      "outputs": [
        {
          "output_type": "stream",
          "text": [
            "{'edgeitems': 3, 'threshold': 1000, 'floatmode': 'maxprec', 'precision': 3, 'suppress': False, 'linewidth': 75, 'nanstr': 'nan', 'infstr': 'inf', 'sign': '-', 'formatter': None, 'legacy': False}\n",
            "[[5.434e-04 2.784e-04 4.245e-04]\n",
            " [8.448e-04 4.719e-06 1.216e-04]\n",
            " [6.707e-04 8.259e-04 1.367e-04]]\n",
            "\n",
            "{'edgeitems': 3, 'threshold': 1000, 'floatmode': 'maxprec', 'precision': 6, 'suppress': True, 'linewidth': 75, 'nanstr': 'nan', 'infstr': 'inf', 'sign': '-', 'formatter': None, 'legacy': False}\n",
            "\n",
            "[[0.000575 0.000891 0.000209]\n",
            " [0.000185 0.000108 0.00022 ]\n",
            " [0.000979 0.000812 0.000172]]\n"
          ],
          "name": "stdout"
        }
      ]
    },
    {
      "cell_type": "code",
      "metadata": {
        "pycharm": {
          "name": "#%%\n"
        },
        "colab": {
          "base_uri": "https://localhost:8080/"
        },
        "id": "Fob30rWs48Wd",
        "outputId": "3471385a-c6a6-4b46-c905-fadedb171a7d"
      },
      "source": [
        "a = np.arange(15)\n",
        "np.set_printoptions(threshold=1000)\n",
        "print(np.get_printoptions())\n",
        "print(a)\n",
        "print()\n",
        "\n",
        "np.set_printoptions(threshold=6)\n",
        "print(np.get_printoptions())\n",
        "print(a)"
      ],
      "execution_count": 25,
      "outputs": [
        {
          "output_type": "stream",
          "text": [
            "{'edgeitems': 3, 'threshold': 1000, 'floatmode': 'maxprec', 'precision': 6, 'suppress': True, 'linewidth': 75, 'nanstr': 'nan', 'infstr': 'inf', 'sign': '-', 'formatter': None, 'legacy': False}\n",
            "[ 0  1  2  3  4  5  6  7  8  9 10 11 12 13 14]\n",
            "\n",
            "{'edgeitems': 3, 'threshold': 6, 'floatmode': 'maxprec', 'precision': 6, 'suppress': True, 'linewidth': 75, 'nanstr': 'nan', 'infstr': 'inf', 'sign': '-', 'formatter': None, 'legacy': False}\n",
            "[ 0  1  2 ... 12 13 14]\n"
          ],
          "name": "stdout"
        }
      ]
    },
    {
      "cell_type": "code",
      "metadata": {
        "pycharm": {
          "name": "#%%\n"
        },
        "colab": {
          "base_uri": "https://localhost:8080/"
        },
        "id": "liW_u3gC48Wd",
        "outputId": "67a89164-e9b9-489f-ebab-2489e21b4de1"
      },
      "source": [
        "np.set_printoptions(threshold=6)\n",
        "a = np.arange(15)\n",
        "print(a)\n",
        "print()\n",
        "\n",
        "np.set_printoptions(threshold=1000)\n",
        "print(a)"
      ],
      "execution_count": 26,
      "outputs": [
        {
          "output_type": "stream",
          "text": [
            "[ 0  1  2 ... 12 13 14]\n",
            "\n",
            "[ 0  1  2  3  4  5  6  7  8  9 10 11 12 13 14]\n"
          ],
          "name": "stdout"
        }
      ]
    },
    {
      "cell_type": "code",
      "metadata": {
        "pycharm": {
          "name": "#%%\n"
        },
        "colab": {
          "base_uri": "https://localhost:8080/"
        },
        "id": "j6_mX36o48Wd",
        "outputId": "1b1af078-8b24-43f4-a7c6-368aab3dab12"
      },
      "source": [
        "source = \"https://archive.ics.uci.edu/ml/machine-learning-databases/iris/iris.data\"\n",
        "names = ('sepallength', 'sepalwidth', 'petallength', 'petalwidth', 'species')\n",
        "\n",
        "print(names)\n",
        "x = np.genfromtxt(source)\n",
        "print(x[:3])\n",
        "print()\n",
        "\n",
        "x = np.genfromtxt(source, dtype=str)\n",
        "print(x[:3])\n",
        "print()\n",
        "\n",
        "x = np.genfromtxt(source, dtype=str, delimiter=\",\")\n",
        "print(x[:3])\n",
        "print()\n",
        "\n",
        "x = np.genfromtxt(source, dtype=object, delimiter=\",\")\n",
        "print(x[:3])\n",
        "print()\n",
        "\n",
        "\n",
        "\n"
      ],
      "execution_count": 29,
      "outputs": [
        {
          "output_type": "stream",
          "text": [
            "('sepallength', 'sepalwidth', 'petallength', 'petalwidth', 'species')\n",
            "[nan nan nan]\n",
            "\n",
            "['5.1,3.5,1.4,0.2,Iris-setosa' '4.9,3.0,1.4,0.2,Iris-setosa'\n",
            " '4.7,3.2,1.3,0.2,Iris-setosa']\n",
            "\n",
            "[['5.1' '3.5' '1.4' '0.2' 'Iris-setosa']\n",
            " ['4.9' '3.0' '1.4' '0.2' 'Iris-setosa']\n",
            " ['4.7' '3.2' '1.3' '0.2' 'Iris-setosa']]\n",
            "\n",
            "[[b'5.1' b'3.5' b'1.4' b'0.2' b'Iris-setosa']\n",
            " [b'4.9' b'3.0' b'1.4' b'0.2' b'Iris-setosa']\n",
            " [b'4.7' b'3.2' b'1.3' b'0.2' b'Iris-setosa']]\n",
            "\n"
          ],
          "name": "stdout"
        }
      ]
    }
  ]
}